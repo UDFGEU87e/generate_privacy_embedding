{
 "cells": [
  {
   "cell_type": "code",
   "execution_count": 3,
   "metadata": {},
   "outputs": [],
   "source": [
    "import numpy as np\n",
    "label1 = np.load('yale_label_faculty_bin.npy')\n",
    "label2 = np.load('yale_label_new.npy')"
   ]
  },
  {
   "cell_type": "code",
   "execution_count": 5,
   "metadata": {},
   "outputs": [
    {
     "data": {
      "text/plain": [
       "array([[ 1.,  2.,  0.,  0., 41.,  5.],\n",
       "       [ 1.,  2., 53.,  0., 47.,  2.],\n",
       "       [ 2.,  0.,  0.,  0.,  0.,  0.],\n",
       "       ...,\n",
       "       [ 1.,  2., 80.,  0., 39.,  4.],\n",
       "       [ 1.,  2., 78.,  0., 31.,  3.],\n",
       "       [ 1.,  2., 85.,  0., 43.,  6.]])"
      ]
     },
     "execution_count": 5,
     "metadata": {},
     "output_type": "execute_result"
    }
   ],
   "source": [
    "label1"
   ]
  },
  {
   "cell_type": "code",
   "execution_count": 4,
   "metadata": {},
   "outputs": [
    {
     "data": {
      "text/plain": [
       "array([[ 1.,  2.,  0.,  0., 41.,  5.],\n",
       "       [ 1.,  2., 53.,  0., 47.,  2.],\n",
       "       [ 2.,  0.,  0.,  0.,  0.,  0.],\n",
       "       ...,\n",
       "       [ 1.,  2., 80.,  0., 39.,  4.],\n",
       "       [ 1.,  2., 78.,  0., 31.,  3.],\n",
       "       [ 1.,  2., 85.,  0., 43.,  6.]])"
      ]
     },
     "execution_count": 4,
     "metadata": {},
     "output_type": "execute_result"
    }
   ],
   "source": [
    "label2"
   ]
  },
  {
   "cell_type": "code",
   "execution_count": 10,
   "metadata": {},
   "outputs": [
    {
     "name": "stdout",
     "output_type": "stream",
     "text": [
      "yes\n"
     ]
    }
   ],
   "source": [
    "if(label1[:,-1] == label2[:,-1]).all():\n",
    "    print(\"yes\")"
   ]
  }
 ],
 "metadata": {
  "kernelspec": {
   "display_name": "Python 3",
   "language": "python",
   "name": "python3"
  },
  "language_info": {
   "codemirror_mode": {
    "name": "ipython",
    "version": 3
   },
   "file_extension": ".py",
   "mimetype": "text/x-python",
   "name": "python",
   "nbconvert_exporter": "python",
   "pygments_lexer": "ipython3",
   "version": "3.5.2"
  }
 },
 "nbformat": 4,
 "nbformat_minor": 2
}
