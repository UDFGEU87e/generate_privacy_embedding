{
 "cells": [
  {
   "cell_type": "code",
   "execution_count": 1,
   "metadata": {},
   "outputs": [
    {
     "name": "stdout",
     "output_type": "stream",
     "text": [
      "***获取当前目录***\n",
      "/home/123/save_model/bin_faculty_F1/Privacy-Preserving-Social-Network-Embedding/generate_privacy_embedding\n"
     ]
    }
   ],
   "source": [
    "import sys\n",
    "import pickle as pkl\n",
    "import tensorflow as tf\n",
    "import numpy as np\n",
    "import scipy.sparse as sp\n",
    "from input_data import load_data\n",
    "from meansuring import get_score\n",
    "from preprocessing import load_edges,preprocess_graph,sparse_to_tuple,construct_feed_dict\n",
    "from process_attr import get_attr_list\n",
    "\n",
    "\n",
    "import os\n",
    "os.environ['CUDA_VISIBLE_DEVICES'] = \"0\"\n",
    "\n",
    "\n",
    "\n",
    "\n",
    "def del_all_flags(FLAGS):\n",
    "    flags_dict = FLAGS._flags()    \n",
    "    keys_list = [keys for keys in flags_dict]    \n",
    "    for keys in keys_list:\n",
    "        FLAGS.__delattr__(keys)\n",
    "\n",
    "del_all_flags(tf.flags.FLAGS)\n",
    "flags = tf.app.flags\n",
    "FLAGS = flags.FLAGS\n",
    "# Settings\n",
    "flags.DEFINE_string('f', '', 'Kernel')\n",
    "flags.DEFINE_string('dataset', 'yale', 'Name of dateset')\n",
    "flags.DEFINE_string('model', 'APPGE', 'Name of dateset')\n",
    " \n",
    "\n",
    "\n",
    "# Load data\n",
    "adj, features,adj_train, val_edges, val_edges_false, test_edges, test_edges_false,labels = load_data(FLAGS.dataset)\n",
    "\n",
    "\n",
    "# Store original adjacency matrix (without diagonal entries) for later\n",
    "adj_orig = adj\n",
    "adj_orig = adj_orig - sp.dia_matrix((adj_orig.diagonal()[np.newaxis, :], [0]), shape=adj_orig.shape)\n",
    "adj_orig.eliminate_zeros()\n",
    "\n",
    "\n",
    "adj = adj_train\n",
    "\n",
    "# Some preprocessing\n",
    "adj_norm = preprocess_graph(adj)\n",
    "features_mat = features.toarray()\n",
    "attr_labels_list,dim_attr,features_rm_privacy = get_attr_list(FLAGS.dataset,labels,features_mat)\n",
    "\n",
    "features_lil = sp.lil_matrix(features_rm_privacy)\n",
    "features_tuple = sparse_to_tuple(features_lil .tocoo())\n",
    "num_nodes = adj.shape[0]\n",
    "features_sp = sparse_to_tuple(features_lil.tocoo())\n",
    "num_features = features_sp[2][1]\n",
    "features_nonzero = features_sp[1].shape[0]\n",
    "\n",
    "\n",
    "pos_weight = float(adj.shape[0] * adj.shape[0] - adj.sum()) / adj.sum()\n",
    "norm = 1\n",
    "adj_label = adj_train + sp.eye(adj_train.shape[0])\n",
    "adj_label = sparse_to_tuple(adj_label)\n",
    "\n",
    "\n"
   ]
  },
  {
   "cell_type": "code",
   "execution_count": 2,
   "metadata": {},
   "outputs": [],
   "source": [
    "#Change tuple to tensor\n",
    "adj_tf = tf.SparseTensor(indices=adj_norm[0], values=adj_norm[1], dense_shape=adj_norm[2])\n",
    "feats_tf = tf.SparseTensor(indices=features_tuple[0], values=features_tuple[1], dense_shape=features_tuple[2])"
   ]
  },
  {
   "cell_type": "code",
   "execution_count": 3,
   "metadata": {},
   "outputs": [],
   "source": [
    "###########Forward Propagation of GCN#################################\n",
    "\n",
    "if FLAGS.model == 'APGE' or FLAGS.model == 'ADPGE':\n",
    "    w1 = np.load('./data/'+FLAGS.model+'_'+FLAGS.dataset+'_w1.npy')\n",
    "    w2 = np.load('./data/'+FLAGS.model+'_'+FLAGS.dataset+'_w2.npy')\n",
    "    w3 = np.load('./data/'+FLAGS.model+'_'+FLAGS.dataset+'_w3.npy')\n",
    "    b3 = np.load('./data/'+FLAGS.model+'_'+FLAGS.dataset+'_b3.npy')\n",
    "    w1_tf = tf.constant(w1,dtype = tf.float64)\n",
    "    w2_tf = tf.constant(w2,dtype = tf.float64)\n",
    "    w3_tf = tf.constant(w3,dtype = tf.float64)\n",
    "    b3_tf = tf.constant(b3,dtype = tf.float64)\n",
    "\n",
    "    x = tf.sparse_tensor_dense_matmul(feats_tf, w1_tf)\n",
    "    x = tf.sparse_tensor_dense_matmul(adj_tf, x)\n",
    "    x = tf.nn.relu(x)\n",
    "    x = tf.matmul(x, w2_tf)\n",
    "    x_short = tf.sparse_tensor_dense_matmul(adj_tf, x)\n",
    "    x= tf.layers.dense(inputs=x_short, units=64,activation=tf.nn.relu,kernel_initializer=tf.constant_initializer(w3),bias_initializer=tf.constant_initializer(b3))\n",
    "\n",
    "else:\n",
    "    w1 = np.load('./data/'+FLAGS.model+'_'+FLAGS.dataset+'_w1.npy')\n",
    "    w2 = np.load('./data/'+FLAGS.model+'_'+FLAGS.dataset+'_w2.npy')\n",
    "    w1_tf = tf.constant(w1,dtype = tf.float64)\n",
    "    w2_tf = tf.constant(w2,dtype = tf.float64)\n",
    "    x = tf.sparse_tensor_dense_matmul(feats_tf, w1_tf)\n",
    "    x = tf.sparse_tensor_dense_matmul(adj_tf, x)\n",
    "    x = tf.nn.relu(x)\n",
    "    x = tf.matmul(x, w2_tf)\n",
    "    x = tf.sparse_tensor_dense_matmul(adj_tf, x)\n",
    "    "
   ]
  },
  {
   "cell_type": "code",
   "execution_count": 4,
   "metadata": {},
   "outputs": [],
   "source": [
    "emb = None\n",
    "with tf.Session() as sess:\n",
    "    tf.global_variables_initializer().run()\n",
    "    emb = x.eval()"
   ]
  },
  {
   "cell_type": "code",
   "execution_count": null,
   "metadata": {},
   "outputs": [],
   "source": [
    "###########Evaluate the embedding########################################################\n",
    "link_acc,link_f1,p0_mlp,p1_mlp,p2_lr,p2_svm,p2_mlp,p0_f1,p1_f1,p2_lr_f1,p2_svm_f1,p2_mlp_f1,preds_all,labels_all,auc,ap = get_score(FLAGS.dataset,adj_orig,test_edges,test_edges_false,emb)\n",
    "if FLAGS.dataset == 'rochestor':\n",
    "    print('Uti Link ACC: ' + str(link_acc) +'\\n')\n",
    "    print('Uti Link F1: ' + str(link_f1)+'\\n')\n",
    "    print('Uti Attr MLP ACC: ' + str(p1_mlp)+'\\n')\n",
    "    print('Uti Attr MLP F1: ' + str(p1_f1)+'\\n')\n",
    "    print('Pri LR ACC: ' + str(p2_lr)+'\\n')\n",
    "    print('Pri LR F1: ' + str(p2_lr_f1)+'\\n')\n",
    "    print('Pri MLP ACC: ' + str(p2_mlp)+'\\n')\n",
    "    print('Pri MLP F1: ' + str(p2_mlp_f1)+'\\n')\n",
    "    print('Pri SVM ACC: ' + str(p2_svm)+'\\n')\n",
    "    print('Pri SVM F1: ' + str(p2_svm_f1)+'\\n')\n",
    "else:\n",
    "    print('Uti Link ACC: ' + str(link_acc) +'\\n')\n",
    "    print('Uti Link F1: ' + str(link_f1)+'\\n')\n",
    "    print('Uti Attr MLP ACC: ' + str(p0_mlp)+'\\n')\n",
    "    print('Uti Attr MLP F1: ' + str(p0_f1)+'\\n')\n",
    "    print('Pri LR ACC: ' + str(p2_lr)+'\\n')\n",
    "    print('Pri LR F1: ' + str(p2_lr_f1)+'\\n')\n",
    "    print('Pri MLP ACC: ' + str(p2_mlp)+'\\n')\n",
    "    print('Pri MLP F1: ' + str(p2_mlp_f1)+'\\n')\n",
    "    print('Pri SVM ACC: ' + str(p2_svm)+'\\n')\n",
    "    print('Pri SVM F1: ' + str(p2_svm_f1)+'\\n')"
   ]
  }
 ],
 "metadata": {
  "kernelspec": {
   "display_name": "Python 3",
   "language": "python",
   "name": "python3"
  },
  "language_info": {
   "codemirror_mode": {
    "name": "ipython",
    "version": 3
   },
   "file_extension": ".py",
   "mimetype": "text/x-python",
   "name": "python",
   "nbconvert_exporter": "python",
   "pygments_lexer": "ipython3",
   "version": "3.5.2"
  }
 },
 "nbformat": 4,
 "nbformat_minor": 2
}
